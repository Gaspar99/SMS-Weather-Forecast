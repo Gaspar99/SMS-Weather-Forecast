{
 "cells": [
  {
   "cell_type": "code",
   "execution_count": 1,
   "id": "6518bba7-a51e-4d16-8697-1ed73aa85429",
   "metadata": {},
   "outputs": [],
   "source": [
    "from twilio.rest import Client\n",
    "from twilio_config import TWILIO_ACCOUNT_SID,TWILIO_AUTH_TOKEN,PHONE_NUMBER,API_KEY_WAPI\n",
    "import time \n",
    "\n",
    "from requests import Request, Session\n",
    "from requests.exceptions import ConnectionError, Timeout, TooManyRedirects\n",
    "import json\n",
    "\n",
    "import pandas as pd \n",
    "import requests\n",
    "from bs4 import BeautifulSoup\n",
    "from datetime import datetime"
   ]
  },
  {
   "cell_type": "code",
   "execution_count": 2,
   "id": "ff530ddc-ae5d-43f5-97c3-16392da93ba1",
   "metadata": {},
   "outputs": [],
   "source": [
    "#generacion del url de la API\n",
    "\n",
    "query = \"Buenos Aires\"\n",
    "api_key = API_KEY_WAPI\n",
    "weather_url = \"http://api.weatherapi.com/v1/forecast.json?key=\" + api_key + \"&q=\" + query + \"&days=1&aqi=no&alerts=no\""
   ]
  },
  {
   "cell_type": "code",
   "execution_count": 3,
   "id": "f1236538-24a1-424c-8c7a-60db7c51e488",
   "metadata": {},
   "outputs": [],
   "source": [
    "#hacemos la solicitud para obtener la informacion del url\n",
    "\n",
    "response = requests.get(weather_url).json()"
   ]
  },
  {
   "cell_type": "code",
   "execution_count": 4,
   "id": "ff7806c5-8528-4672-ab02-94d53d23eb5f",
   "metadata": {},
   "outputs": [
    {
     "data": {
      "text/plain": [
       "dict_keys(['location', 'current', 'forecast'])"
      ]
     },
     "execution_count": 4,
     "metadata": {},
     "output_type": "execute_result"
    }
   ],
   "source": [
    "response.keys()"
   ]
  },
  {
   "cell_type": "code",
   "execution_count": 5,
   "id": "f1c59779-38db-4cfe-9edc-583765df02a2",
   "metadata": {},
   "outputs": [
    {
     "data": {
      "text/plain": [
       "dict_keys(['date', 'date_epoch', 'day', 'astro', 'hour'])"
      ]
     },
     "execution_count": 5,
     "metadata": {},
     "output_type": "execute_result"
    }
   ],
   "source": [
    "response['forecast']['forecastday'][0].keys()"
   ]
  },
  {
   "cell_type": "code",
   "execution_count": 6,
   "id": "8697d49d-2d9c-4853-8808-12f30f7f7ed0",
   "metadata": {},
   "outputs": [
    {
     "data": {
      "text/plain": [
       "'2024-07-19'"
      ]
     },
     "execution_count": 6,
     "metadata": {},
     "output_type": "execute_result"
    }
   ],
   "source": [
    "# obtencion de la fecha\n",
    "\n",
    "response['forecast']['forecastday'][0]['hour'][1]['time'].split()[0]"
   ]
  },
  {
   "cell_type": "code",
   "execution_count": 7,
   "id": "2edcf1f0-ed27-48f7-840a-3f7aba1cee6e",
   "metadata": {},
   "outputs": [
    {
     "data": {
      "text/plain": [
       "1"
      ]
     },
     "execution_count": 7,
     "metadata": {},
     "output_type": "execute_result"
    }
   ],
   "source": [
    "# obtencion de la hora como numero entero \n",
    "\n",
    "int(response['forecast']['forecastday'][0]['hour'][1]['time'].split()[1].split(\":\")[0])"
   ]
  },
  {
   "cell_type": "code",
   "execution_count": 8,
   "id": "eefb39a0-abfb-49a2-86d1-55beee515ef3",
   "metadata": {},
   "outputs": [
    {
     "data": {
      "text/plain": [
       "'Clear '"
      ]
     },
     "execution_count": 8,
     "metadata": {},
     "output_type": "execute_result"
    }
   ],
   "source": [
    "# obtencion de la condicion del tiempo\n",
    "\n",
    "response['forecast']['forecastday'][0]['hour'][1]['condition']['text']"
   ]
  },
  {
   "cell_type": "code",
   "execution_count": 9,
   "id": "0f27ee63-2845-4944-9f74-082b4b1e9a40",
   "metadata": {},
   "outputs": [
    {
     "data": {
      "text/plain": [
       "12.3"
      ]
     },
     "execution_count": 9,
     "metadata": {},
     "output_type": "execute_result"
    }
   ],
   "source": [
    "# obtencion de la temperatura\n",
    "\n",
    "response['forecast']['forecastday'][0]['hour'][1]['temp_c']"
   ]
  },
  {
   "cell_type": "code",
   "execution_count": 10,
   "id": "35a6901b-7653-4b29-ad57-63a402a11cfb",
   "metadata": {},
   "outputs": [
    {
     "data": {
      "text/plain": [
       "0"
      ]
     },
     "execution_count": 10,
     "metadata": {},
     "output_type": "execute_result"
    }
   ],
   "source": [
    "# 0 = no llovera\n",
    "# 1 = llovera\n",
    "\n",
    "response['forecast']['forecastday'][0]['hour'][1]['will_it_rain']"
   ]
  },
  {
   "cell_type": "code",
   "execution_count": 11,
   "id": "7595413d-600b-4d87-bee2-f53d8b484b17",
   "metadata": {},
   "outputs": [
    {
     "data": {
      "text/plain": [
       "0"
      ]
     },
     "execution_count": 11,
     "metadata": {},
     "output_type": "execute_result"
    }
   ],
   "source": [
    "# obtencion de la probalidad de lluvia\n",
    "\n",
    "response['forecast']['forecastday'][0]['hour'][1]['chance_of_rain']"
   ]
  },
  {
   "cell_type": "markdown",
   "id": "599380b6-17df-4c0c-a07a-ad5ed007cf88",
   "metadata": {},
   "source": [
    "**Data Frame** "
   ]
  },
  {
   "cell_type": "code",
   "execution_count": 13,
   "id": "9b4a639e-38f7-4af0-b969-beb74dac1e73",
   "metadata": {},
   "outputs": [],
   "source": [
    "def extract_forecast(response, i):\n",
    "\n",
    "    fecha = response['forecast']['forecastday'][0]['hour'][i]['time'].split()[0]\n",
    "    hora = int(response['forecast']['forecastday'][0]['hour'][i]['time'].split()[1].split(\":\")[0])\n",
    "    condicion = response['forecast']['forecastday'][0]['hour'][i]['condition']['text']\n",
    "    temperatura = response['forecast']['forecastday'][0]['hour'][i]['temp_c']\n",
    "    lluvia = response['forecast']['forecastday'][0]['hour'][i]['will_it_rain']\n",
    "    prob_lluvia = response['forecast']['forecastday'][0]['hour'][i]['chance_of_rain']\n",
    "    \n",
    "    return fecha, hora, condicion, temperatura, lluvia, prob_lluvia"
   ]
  },
  {
   "cell_type": "code",
   "execution_count": 18,
   "id": "baf3fa5f-cf0f-4e56-b24c-18bc5353596b",
   "metadata": {},
   "outputs": [],
   "source": [
    "datos = []\n",
    "\n",
    "for i in range(len(response['forecast']['forecastday'][0]['hour'])):\n",
    "\n",
    "    datos.append(extract_forecast(response,i))"
   ]
  },
  {
   "cell_type": "code",
   "execution_count": 19,
   "id": "84a17bdc-7f63-410a-9c4a-1b32f80efdfd",
   "metadata": {},
   "outputs": [
    {
     "data": {
      "text/plain": [
       "[('2024-07-19', 0, 'Clear ', 12.6, 0, 0),\n",
       " ('2024-07-19', 1, 'Clear ', 12.3, 0, 0),\n",
       " ('2024-07-19', 2, 'Clear ', 12.1, 0, 0),\n",
       " ('2024-07-19', 3, 'Clear ', 11.8, 0, 0),\n",
       " ('2024-07-19', 4, 'Partly Cloudy ', 11.7, 0, 0),\n",
       " ('2024-07-19', 5, 'Partly Cloudy ', 11.9, 0, 0),\n",
       " ('2024-07-19', 6, 'Partly Cloudy ', 11.7, 0, 0),\n",
       " ('2024-07-19', 7, 'Overcast ', 11.7, 0, 0),\n",
       " ('2024-07-19', 8, 'Partly Cloudy ', 11.5, 0, 0),\n",
       " ('2024-07-19', 9, 'Sunny', 11.3, 0, 0),\n",
       " ('2024-07-19', 10, 'Partly Cloudy ', 11.3, 0, 0),\n",
       " ('2024-07-19', 11, 'Partly Cloudy ', 11.6, 0, 0),\n",
       " ('2024-07-19', 12, 'Partly Cloudy ', 12.9, 0, 0),\n",
       " ('2024-07-19', 13, 'Cloudy ', 13.8, 0, 0),\n",
       " ('2024-07-19', 14, 'Partly Cloudy ', 14.1, 0, 0),\n",
       " ('2024-07-19', 15, 'Partly Cloudy ', 13.2, 0, 0),\n",
       " ('2024-07-19', 16, 'Cloudy ', 13.1, 0, 0),\n",
       " ('2024-07-19', 17, 'Sunny', 12.4, 0, 0),\n",
       " ('2024-07-19', 18, 'Partly Cloudy ', 12.3, 0, 0),\n",
       " ('2024-07-19', 19, 'Partly Cloudy ', 11.7, 0, 0),\n",
       " ('2024-07-19', 20, 'Partly Cloudy ', 11.1, 0, 0),\n",
       " ('2024-07-19', 21, 'Partly Cloudy ', 10.4, 0, 0),\n",
       " ('2024-07-19', 22, 'Partly Cloudy ', 9.9, 0, 0),\n",
       " ('2024-07-19', 23, 'Partly Cloudy ', 9.5, 0, 0)]"
      ]
     },
     "execution_count": 19,
     "metadata": {},
     "output_type": "execute_result"
    }
   ],
   "source": [
    "datos"
   ]
  },
  {
   "cell_type": "code",
   "execution_count": null,
   "id": "0bb18010-81c5-4933-b1d3-de2d06e3634e",
   "metadata": {},
   "outputs": [],
   "source": []
  }
 ],
 "metadata": {
  "kernelspec": {
   "display_name": "Python 3 (ipykernel)",
   "language": "python",
   "name": "python3"
  },
  "language_info": {
   "codemirror_mode": {
    "name": "ipython",
    "version": 3
   },
   "file_extension": ".py",
   "mimetype": "text/x-python",
   "name": "python",
   "nbconvert_exporter": "python",
   "pygments_lexer": "ipython3",
   "version": "3.10.11"
  }
 },
 "nbformat": 4,
 "nbformat_minor": 5
}
